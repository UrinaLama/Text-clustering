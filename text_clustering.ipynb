{
 "cells": [
  {
   "cell_type": "markdown",
   "id": "3871c02d",
   "metadata": {},
   "source": [
    "## Clustering text using NLP and K-means clustering"
   ]
  },
  {
   "cell_type": "code",
   "execution_count": 1,
   "id": "7ba757cb",
   "metadata": {},
   "outputs": [
    {
     "name": "stderr",
     "output_type": "stream",
     "text": [
      "[nltk_data] Downloading package stopwords to\n",
      "[nltk_data]     C:\\Users\\dell\\AppData\\Roaming\\nltk_data...\n",
      "[nltk_data]   Package stopwords is already up-to-date!\n"
     ]
    },
    {
     "data": {
      "text/plain": [
       "True"
      ]
     },
     "execution_count": 1,
     "metadata": {},
     "output_type": "execute_result"
    }
   ],
   "source": [
    "import os\n",
    "import random\n",
    "import re\n",
    "import string\n",
    "\n",
    "import nltk\n",
    "import numpy as np\n",
    "import pandas as pd\n",
    "\n",
    "from gensim.models import Word2Vec\n",
    "\n",
    "from nltk import word_tokenize\n",
    "from nltk.corpus import stopwords\n",
    "\n",
    "from sklearn.cluster import MiniBatchKMeans\n",
    "from sklearn.metrics import silhouette_samples, silhouette_score\n",
    "\n",
    "nltk.download(\"stopwords\")"
   ]
  },
  {
   "cell_type": "code",
   "execution_count": 2,
   "id": "a1ef11b3",
   "metadata": {},
   "outputs": [],
   "source": [
    "df_raw = pd.read_csv(\"dataset/articles_data.csv\")"
   ]
  },
  {
   "cell_type": "code",
   "execution_count": 23,
   "id": "97e51314",
   "metadata": {},
   "outputs": [
    {
     "data": {
      "text/html": [
       "<div>\n",
       "<style scoped>\n",
       "    .dataframe tbody tr th:only-of-type {\n",
       "        vertical-align: middle;\n",
       "    }\n",
       "\n",
       "    .dataframe tbody tr th {\n",
       "        vertical-align: top;\n",
       "    }\n",
       "\n",
       "    .dataframe thead th {\n",
       "        text-align: right;\n",
       "    }\n",
       "</style>\n",
       "<table border=\"1\" class=\"dataframe\">\n",
       "  <thead>\n",
       "    <tr style=\"text-align: right;\">\n",
       "      <th></th>\n",
       "      <th>Unnamed: 0</th>\n",
       "      <th>source_id</th>\n",
       "      <th>source_name</th>\n",
       "      <th>author</th>\n",
       "      <th>title</th>\n",
       "      <th>description</th>\n",
       "      <th>url</th>\n",
       "      <th>url_to_image</th>\n",
       "      <th>published_at</th>\n",
       "      <th>content</th>\n",
       "      <th>top_article</th>\n",
       "      <th>engagement_reaction_count</th>\n",
       "      <th>engagement_comment_count</th>\n",
       "      <th>engagement_share_count</th>\n",
       "      <th>engagement_comment_plugin_count</th>\n",
       "    </tr>\n",
       "  </thead>\n",
       "  <tbody>\n",
       "    <tr>\n",
       "      <th>0</th>\n",
       "      <td>0</td>\n",
       "      <td>reuters</td>\n",
       "      <td>Reuters</td>\n",
       "      <td>Reuters Editorial</td>\n",
       "      <td>NTSB says Autopilot engaged in 2018 California...</td>\n",
       "      <td>The National Transportation Safety Board said ...</td>\n",
       "      <td>https://www.reuters.com/article/us-tesla-crash...</td>\n",
       "      <td>https://s4.reutersmedia.net/resources/r/?m=02&amp;...</td>\n",
       "      <td>2019-09-03T16:22:20Z</td>\n",
       "      <td>WASHINGTON (Reuters) - The National Transporta...</td>\n",
       "      <td>0.0</td>\n",
       "      <td>0.0</td>\n",
       "      <td>0.0</td>\n",
       "      <td>2528.0</td>\n",
       "      <td>0.0</td>\n",
       "    </tr>\n",
       "    <tr>\n",
       "      <th>1</th>\n",
       "      <td>1</td>\n",
       "      <td>the-irish-times</td>\n",
       "      <td>The Irish Times</td>\n",
       "      <td>Eoin Burke-Kennedy</td>\n",
       "      <td>Unemployment falls to post-crash low of 5.2%</td>\n",
       "      <td>Latest monthly figures reflect continued growt...</td>\n",
       "      <td>https://www.irishtimes.com/business/economy/un...</td>\n",
       "      <td>https://www.irishtimes.com/image-creator/?id=1...</td>\n",
       "      <td>2019-09-03T10:32:28Z</td>\n",
       "      <td>The States jobless rate fell to 5.2 per cent l...</td>\n",
       "      <td>0.0</td>\n",
       "      <td>6.0</td>\n",
       "      <td>10.0</td>\n",
       "      <td>2.0</td>\n",
       "      <td>0.0</td>\n",
       "    </tr>\n",
       "    <tr>\n",
       "      <th>2</th>\n",
       "      <td>2</td>\n",
       "      <td>the-irish-times</td>\n",
       "      <td>The Irish Times</td>\n",
       "      <td>Deirdre McQuillan</td>\n",
       "      <td>Louise Kennedy AW2019: Long coats, sparkling t...</td>\n",
       "      <td>Autumn-winter collection features designer’s g...</td>\n",
       "      <td>https://www.irishtimes.com/\\t\\t\\t\\t\\t\\t\\t/life...</td>\n",
       "      <td>https://www.irishtimes.com/image-creator/?id=1...</td>\n",
       "      <td>2019-09-03T14:40:00Z</td>\n",
       "      <td>Louise Kennedy is showing off her autumn-winte...</td>\n",
       "      <td>1.0</td>\n",
       "      <td>NaN</td>\n",
       "      <td>NaN</td>\n",
       "      <td>NaN</td>\n",
       "      <td>NaN</td>\n",
       "    </tr>\n",
       "    <tr>\n",
       "      <th>3</th>\n",
       "      <td>3</td>\n",
       "      <td>al-jazeera-english</td>\n",
       "      <td>Al Jazeera English</td>\n",
       "      <td>Al Jazeera</td>\n",
       "      <td>North Korean footballer Han joins Italian gian...</td>\n",
       "      <td>Han is the first North Korean player in the Se...</td>\n",
       "      <td>https://www.aljazeera.com/news/2019/09/north-k...</td>\n",
       "      <td>https://www.aljazeera.com/mritems/Images/2019/...</td>\n",
       "      <td>2019-09-03T17:25:39Z</td>\n",
       "      <td>Han Kwang Song, the first North Korean footbal...</td>\n",
       "      <td>0.0</td>\n",
       "      <td>0.0</td>\n",
       "      <td>0.0</td>\n",
       "      <td>7.0</td>\n",
       "      <td>0.0</td>\n",
       "    </tr>\n",
       "    <tr>\n",
       "      <th>4</th>\n",
       "      <td>4</td>\n",
       "      <td>bbc-news</td>\n",
       "      <td>BBC News</td>\n",
       "      <td>BBC News</td>\n",
       "      <td>UK government lawyer says proroguing parliamen...</td>\n",
       "      <td>The UK government's lawyer, David Johnston arg...</td>\n",
       "      <td>https://www.bbc.co.uk/news/av/uk-scotland-4956...</td>\n",
       "      <td>https://ichef.bbci.co.uk/news/1024/branded_new...</td>\n",
       "      <td>2019-09-03T14:39:21Z</td>\n",
       "      <td>NaN</td>\n",
       "      <td>0.0</td>\n",
       "      <td>0.0</td>\n",
       "      <td>0.0</td>\n",
       "      <td>0.0</td>\n",
       "      <td>0.0</td>\n",
       "    </tr>\n",
       "  </tbody>\n",
       "</table>\n",
       "</div>"
      ],
      "text/plain": [
       "   Unnamed: 0           source_id         source_name              author  \\\n",
       "0           0             reuters             Reuters   Reuters Editorial   \n",
       "1           1     the-irish-times     The Irish Times  Eoin Burke-Kennedy   \n",
       "2           2     the-irish-times     The Irish Times   Deirdre McQuillan   \n",
       "3           3  al-jazeera-english  Al Jazeera English          Al Jazeera   \n",
       "4           4            bbc-news            BBC News            BBC News   \n",
       "\n",
       "                                               title  \\\n",
       "0  NTSB says Autopilot engaged in 2018 California...   \n",
       "1       Unemployment falls to post-crash low of 5.2%   \n",
       "2  Louise Kennedy AW2019: Long coats, sparkling t...   \n",
       "3  North Korean footballer Han joins Italian gian...   \n",
       "4  UK government lawyer says proroguing parliamen...   \n",
       "\n",
       "                                         description  \\\n",
       "0  The National Transportation Safety Board said ...   \n",
       "1  Latest monthly figures reflect continued growt...   \n",
       "2  Autumn-winter collection features designer’s g...   \n",
       "3  Han is the first North Korean player in the Se...   \n",
       "4  The UK government's lawyer, David Johnston arg...   \n",
       "\n",
       "                                                 url  \\\n",
       "0  https://www.reuters.com/article/us-tesla-crash...   \n",
       "1  https://www.irishtimes.com/business/economy/un...   \n",
       "2  https://www.irishtimes.com/\\t\\t\\t\\t\\t\\t\\t/life...   \n",
       "3  https://www.aljazeera.com/news/2019/09/north-k...   \n",
       "4  https://www.bbc.co.uk/news/av/uk-scotland-4956...   \n",
       "\n",
       "                                        url_to_image          published_at  \\\n",
       "0  https://s4.reutersmedia.net/resources/r/?m=02&...  2019-09-03T16:22:20Z   \n",
       "1  https://www.irishtimes.com/image-creator/?id=1...  2019-09-03T10:32:28Z   \n",
       "2  https://www.irishtimes.com/image-creator/?id=1...  2019-09-03T14:40:00Z   \n",
       "3  https://www.aljazeera.com/mritems/Images/2019/...  2019-09-03T17:25:39Z   \n",
       "4  https://ichef.bbci.co.uk/news/1024/branded_new...  2019-09-03T14:39:21Z   \n",
       "\n",
       "                                             content  top_article  \\\n",
       "0  WASHINGTON (Reuters) - The National Transporta...          0.0   \n",
       "1  The States jobless rate fell to 5.2 per cent l...          0.0   \n",
       "2  Louise Kennedy is showing off her autumn-winte...          1.0   \n",
       "3  Han Kwang Song, the first North Korean footbal...          0.0   \n",
       "4                                                NaN          0.0   \n",
       "\n",
       "   engagement_reaction_count  engagement_comment_count  \\\n",
       "0                        0.0                       0.0   \n",
       "1                        6.0                      10.0   \n",
       "2                        NaN                       NaN   \n",
       "3                        0.0                       0.0   \n",
       "4                        0.0                       0.0   \n",
       "\n",
       "   engagement_share_count  engagement_comment_plugin_count  \n",
       "0                  2528.0                              0.0  \n",
       "1                     2.0                              0.0  \n",
       "2                     NaN                              NaN  \n",
       "3                     7.0                              0.0  \n",
       "4                     0.0                              0.0  "
      ]
     },
     "execution_count": 23,
     "metadata": {},
     "output_type": "execute_result"
    }
   ],
   "source": [
    "df_raw.head()"
   ]
  },
  {
   "cell_type": "markdown",
   "id": "54c46b9a",
   "metadata": {},
   "source": [
    "## Data preprocessing"
   ]
  },
  {
   "cell_type": "code",
   "execution_count": 4,
   "id": "25c057e7",
   "metadata": {},
   "outputs": [],
   "source": [
    "def preprocess_text(corpus):\n",
    "    \"\"\"Pre-process corpus and generate tokens\n",
    "\n",
    "    Args:\n",
    "        corpus: corpus to tokenize.\n",
    "\n",
    "    Returns:\n",
    "        Tokenized corpus.\n",
    "    \"\"\"\n",
    "    corpus = str(corpus).lower()  # Lowercase words\n",
    "    corpus = re.sub(r\"\\[(.*?)\\]\", \"\", corpus)  # Remove [+XYZ chars] in content\n",
    "    corpus = re.sub(r\"\\s+\", \" \", corpus)  # Remove multiple spaces in content\n",
    "    corpus = re.sub(r\"\\w+…|…\", \"\", corpus)  # Remove ellipsis (and last word)\n",
    "    corpus = re.sub(r\"(?<=\\w)-(?=\\w)\", \" \", corpus)  # Replace dash between words\n",
    "    corpus = re.sub(\n",
    "        f\"[{re.escape(string.punctuation)}]\", \"\", corpus\n",
    "    )  # Remove punctuation\n",
    "\n",
    "    tokens = word_tokenize(corpus)  # Get tokens from text\n",
    "    custom_stopwords = set(stopwords.words(\"english\") + [\"news\", \"new\", \"top\"])\n",
    "    tokens = [t for t in tokens if not t in custom_stopwords]  # Remove stopwords\n",
    "    tokens = [\"\" if t.isdigit() else t for t in tokens]  # Remove digits\n",
    "    tokens = [t for t in tokens if len(t) > 1]  # Remove short tokens\n",
    "    return tokens"
   ]
  },
  {
   "cell_type": "code",
   "execution_count": 5,
   "id": "c30036ec",
   "metadata": {},
   "outputs": [
    {
     "data": {
      "text/plain": [
       "0        WASHINGTON (Reuters) - The National Transporta...\n",
       "1        The States jobless rate fell to 5.2 per cent l...\n",
       "2        Louise Kennedy is showing off her autumn-winte...\n",
       "3        Han Kwang Song, the first North Korean footbal...\n",
       "4                                                         \n",
       "                               ...                        \n",
       "10432    Growth in the U.S. economys vast services sect...\n",
       "10433    ZURICH/HONG KONG (Reuters) - The announcement ...\n",
       "10434                                                     \n",
       "10435                                                     \n",
       "10436                                                     \n",
       "Name: content, Length: 10437, dtype: object"
      ]
     },
     "execution_count": 5,
     "metadata": {},
     "output_type": "execute_result"
    }
   ],
   "source": [
    "text_columns = [\"title\", \"description\", \"content\"]\n",
    "\n",
    "df = df_raw.copy()\n",
    "df[\"content\"] = df[\"content\"].fillna(\"\")\n",
    "\n",
    "df[\"content\"]"
   ]
  },
  {
   "cell_type": "code",
   "execution_count": 6,
   "id": "2c5d992e",
   "metadata": {},
   "outputs": [
    {
     "name": "stdout",
     "output_type": "stream",
     "text": [
      "<class 'pandas.core.frame.DataFrame'>\n",
      "RangeIndex: 10437 entries, 0 to 10436\n",
      "Data columns (total 15 columns):\n",
      " #   Column                           Non-Null Count  Dtype  \n",
      "---  ------                           --------------  -----  \n",
      " 0   Unnamed: 0                       10437 non-null  int64  \n",
      " 1   source_id                        10437 non-null  object \n",
      " 2   source_name                      10437 non-null  object \n",
      " 3   author                           9417 non-null   object \n",
      " 4   title                            10437 non-null  object \n",
      " 5   description                      10437 non-null  object \n",
      " 6   url                              10436 non-null  object \n",
      " 7   url_to_image                     9781 non-null   object \n",
      " 8   published_at                     10436 non-null  object \n",
      " 9   content                          10437 non-null  object \n",
      " 10  top_article                      10435 non-null  float64\n",
      " 11  engagement_reaction_count        10319 non-null  float64\n",
      " 12  engagement_comment_count         10319 non-null  float64\n",
      " 13  engagement_share_count           10319 non-null  float64\n",
      " 14  engagement_comment_plugin_count  10319 non-null  float64\n",
      "dtypes: float64(5), int64(1), object(9)\n",
      "memory usage: 1.2+ MB\n"
     ]
    }
   ],
   "source": [
    "for col in text_columns:\n",
    "    df[col] = df[col].astype(str)\n",
    "\n",
    "df.info()"
   ]
  },
  {
   "cell_type": "code",
   "execution_count": 7,
   "id": "2c606131",
   "metadata": {},
   "outputs": [
    {
     "data": {
      "text/plain": [
       "0        NTSB says Autopilot engaged in 2018 California...\n",
       "1        Unemployment falls to post-crash low of 5.2% |...\n",
       "2        Louise Kennedy AW2019: Long coats, sparkling t...\n",
       "3        North Korean footballer Han joins Italian gian...\n",
       "4        UK government lawyer says proroguing parliamen...\n",
       "                               ...                        \n",
       "10432    Drop in US service sector activity raises econ...\n",
       "10433    Banker defections pose challenge for Credit Su...\n",
       "10434    A 5-year-old cancer survivor donates 3,000 toy...\n",
       "10435    Fateful Connection | A detective is haunted by...\n",
       "10436    Love, Hate & Obsession | Who wanted one-time m...\n",
       "Name: article, Length: 10437, dtype: object"
      ]
     },
     "execution_count": 7,
     "metadata": {},
     "output_type": "execute_result"
    }
   ],
   "source": [
    "# Create article column based on title, description, and content\n",
    "df[\"article\"] = df[text_columns].apply(lambda x: \" | \".join(x), axis=1)\n",
    "df[\"article\"]"
   ]
  },
  {
   "cell_type": "code",
   "execution_count": 8,
   "id": "ab071d7e",
   "metadata": {},
   "outputs": [
    {
     "data": {
      "text/plain": [
       "0        [ntsb, says, autopilot, engaged, california, t...\n",
       "1        [unemployment, falls, post, crash, low, latest...\n",
       "2        [louise, kennedy, aw2019, long, coats, sparkli...\n",
       "3        [north, korean, footballer, han, joins, italia...\n",
       "4        [uk, government, lawyer, says, proroguing, par...\n",
       "                               ...                        \n",
       "10432    [drop, us, service, sector, activity, raises, ...\n",
       "10433    [banker, defections, pose, challenge, credit, ...\n",
       "10434    [year, old, cancer, survivor, donates, toys, c...\n",
       "10435    [fateful, connection, detective, haunted, case...\n",
       "10436    [love, hate, obsession, wanted, one, time, mil...\n",
       "Name: tokens, Length: 10437, dtype: object"
      ]
     },
     "execution_count": 8,
     "metadata": {},
     "output_type": "execute_result"
    }
   ],
   "source": [
    "df[\"tokens\"] = df[\"article\"].map(lambda x: preprocess_text(x))\n",
    "df[\"tokens\"]"
   ]
  },
  {
   "cell_type": "code",
   "execution_count": 9,
   "id": "30c892c6",
   "metadata": {},
   "outputs": [
    {
     "name": "stdout",
     "output_type": "stream",
     "text": [
      "Original data: (10437, 15)\n",
      "Pre-processed data: (9882, 2)\n"
     ]
    }
   ],
   "source": [
    "# Remove duplicated after preprocessing\n",
    "_, idx = np.unique(df[\"tokens\"], return_index=True)\n",
    "df = df.iloc[idx, :]\n",
    "\n",
    "# Remove empty values\n",
    "df = df.loc[df.tokens.map(lambda x: len(x) > 0), [\"article\", \"tokens\"]]\n",
    "\n",
    "print(f\"Original data: {df_raw.shape}\")\n",
    "print(f\"Pre-processed data: {df.shape}\")"
   ]
  },
  {
   "cell_type": "markdown",
   "id": "3f4d527f",
   "metadata": {},
   "source": [
    "### looking at vocabulary"
   ]
  },
  {
   "cell_type": "code",
   "execution_count": 10,
   "id": "8ed84957",
   "metadata": {},
   "outputs": [],
   "source": [
    "from collections import Counter "
   ]
  },
  {
   "cell_type": "code",
   "execution_count": 11,
   "id": "a50d61b1",
   "metadata": {},
   "outputs": [],
   "source": [
    "docs = df[\"article\"].values\n",
    "tokenized_docs = df[\"tokens\"].values\n",
    "\n",
    "vocab = Counter()\n",
    "for token in tokenized_docs:\n",
    "    vocab.update(token)"
   ]
  },
  {
   "cell_type": "code",
   "execution_count": 12,
   "id": "3b4d0aeb",
   "metadata": {},
   "outputs": [
    {
     "data": {
      "text/plain": [
       "[('us', 2757),\n",
       " ('said', 2519),\n",
       " ('year', 1781),\n",
       " ('president', 1756),\n",
       " ('trump', 1705),\n",
       " ('world', 1620),\n",
       " ('says', 1511),\n",
       " ('one', 1418),\n",
       " ('two', 1284),\n",
       " ('first', 1195)]"
      ]
     },
     "execution_count": 12,
     "metadata": {},
     "output_type": "execute_result"
    }
   ],
   "source": [
    "vocab.most_common(10)"
   ]
  },
  {
   "cell_type": "markdown",
   "id": "0620eff0",
   "metadata": {},
   "source": [
    "### Vectorization using word embeddings"
   ]
  },
  {
   "cell_type": "code",
   "execution_count": 13,
   "id": "c30e39b1",
   "metadata": {},
   "outputs": [],
   "source": [
    "def vectorize(list_of_docs, model):\n",
    "    \"\"\"Generate vectors for list of documents using a Word Embedding\n",
    "\n",
    "    Args:\n",
    "        list_of_docs: List of documents\n",
    "        model: Gensim's Word Embedding\n",
    "\n",
    "    Returns:\n",
    "        List of document vectors\n",
    "    \"\"\"\n",
    "    features = []\n",
    "\n",
    "    for tokens in list_of_docs:\n",
    "        zero_vector = np.zeros(model.vector_size)\n",
    "        vectors = []\n",
    "        for token in tokens:\n",
    "            if token in model.wv:\n",
    "                try:\n",
    "                    vectors.append(model.wv[token])\n",
    "                except KeyError:\n",
    "                    continue\n",
    "        if vectors:\n",
    "            vectors = np.asarray(vectors)\n",
    "            avg_vec = vectors.mean(axis=0)\n",
    "            features.append(avg_vec)\n",
    "        else:\n",
    "            features.append(zero_vector)\n",
    "    return features"
   ]
  },
  {
   "cell_type": "code",
   "execution_count": 14,
   "id": "e197bc33",
   "metadata": {},
   "outputs": [],
   "source": [
    "model = Word2Vec(sentences=tokenized_docs, vector_size=100, workers=1, seed=42)"
   ]
  },
  {
   "cell_type": "code",
   "execution_count": 15,
   "id": "a97c9afd",
   "metadata": {},
   "outputs": [
    {
     "data": {
      "text/plain": [
       "[('trumps', 0.988541841506958),\n",
       " ('president', 0.9746480584144592),\n",
       " ('donald', 0.9274919629096985),\n",
       " ('ivanka', 0.9203823804855347),\n",
       " ('impeachment', 0.9195769429206848),\n",
       " ('pences', 0.9152195453643799),\n",
       " ('avlon', 0.9148270487785339),\n",
       " ('biden', 0.9146018624305725),\n",
       " ('breitbart', 0.9143953323364258),\n",
       " ('vice', 0.9067230224609375)]"
      ]
     },
     "execution_count": 15,
     "metadata": {},
     "output_type": "execute_result"
    }
   ],
   "source": [
    "model.wv.most_similar(\"trump\")"
   ]
  },
  {
   "cell_type": "code",
   "execution_count": 16,
   "id": "702b5b9f",
   "metadata": {},
   "outputs": [
    {
     "data": {
      "text/plain": [
       "(9882, 100)"
      ]
     },
     "execution_count": 16,
     "metadata": {},
     "output_type": "execute_result"
    }
   ],
   "source": [
    "vectorized_docs = vectorize(tokenized_docs, model=model)\n",
    "len(vectorized_docs), len(vectorized_docs[0])"
   ]
  },
  {
   "cell_type": "code",
   "execution_count": 17,
   "id": "50ab5053",
   "metadata": {},
   "outputs": [],
   "source": [
    "def vectorize(list_of_docs, model):\n",
    "    \"\"\"Generate vectors for list of documents using a Word Embedding\n",
    "\n",
    "    Args:\n",
    "        list_of_docs: List of documents\n",
    "        model: Gensim's Word Embedding\n",
    "\n",
    "    Returns:\n",
    "        List of document vectors\n",
    "    \"\"\"\n",
    "    features = []\n",
    "\n",
    "    for tokens in list_of_docs:\n",
    "        zero_vector = np.zeros(model.vector_size)\n",
    "        vectors = []\n",
    "        for token in tokens:\n",
    "            if token in model.wv:\n",
    "                try:\n",
    "                    vectors.append(model.wv[token])\n",
    "                except KeyError:\n",
    "                    continue\n",
    "        if vectors:\n",
    "            vectors = np.asarray(vectors)\n",
    "            avg_vec = vectors.mean(axis=0)\n",
    "            features.append(avg_vec)\n",
    "        else:\n",
    "            features.append(zero_vector)\n",
    "    return features"
   ]
  },
  {
   "cell_type": "code",
   "execution_count": 18,
   "id": "428fb138",
   "metadata": {},
   "outputs": [],
   "source": [
    "model = Word2Vec(sentences=tokenized_docs, vector_size=100, workers=1, seed=42)"
   ]
  },
  {
   "cell_type": "code",
   "execution_count": 19,
   "id": "d57348a0",
   "metadata": {},
   "outputs": [],
   "source": [
    "def mbkmeans_clusters(X, k, mb=500, print_silhouette_values=False):\n",
    "    \"\"\"Generate clusters.\n",
    "\n",
    "    Args:\n",
    "        X: Matrix of features.\n",
    "        k: Number of clusters.\n",
    "        mb: Size of mini-batches. Defaults to 500.\n",
    "        print_silhouette_values: Print silhouette values per cluster.\n",
    "\n",
    "    Returns:\n",
    "        Trained clustering model and labels based on X.\n",
    "    \"\"\"\n",
    "    km = MiniBatchKMeans(n_clusters=k, batch_size=mb).fit(X)\n",
    "    print(f\"For n_clusters = {k}\")\n",
    "    print(f\"Silhouette coefficient: {silhouette_score(X, km.labels_):0.2f}\")\n",
    "    print(f\"Inertia:{km.inertia_}\")\n",
    "\n",
    "    if print_silhouette_values:\n",
    "        sample_silhouette_values = silhouette_samples(X, km.labels_)\n",
    "        print(f\"Silhouette values:\")\n",
    "        silhouette_values = []\n",
    "        for i in range(k):\n",
    "            cluster_silhouette_values = sample_silhouette_values[km.labels_ == i]\n",
    "            silhouette_values.append(\n",
    "                (\n",
    "                    i,\n",
    "                    cluster_silhouette_values.shape[0],\n",
    "                    cluster_silhouette_values.mean(),\n",
    "                    cluster_silhouette_values.min(),\n",
    "                    cluster_silhouette_values.max(),\n",
    "                )\n",
    "            )\n",
    "        silhouette_values = sorted(\n",
    "            silhouette_values, key=lambda tup: tup[2], reverse=True\n",
    "        )\n",
    "        for s in silhouette_values:\n",
    "            print(\n",
    "                f\"    Cluster {s[0]}: Size:{s[1]} | Avg:{s[2]:.2f} | Min:{s[3]:.2f} | Max: {s[4]:.2f}\"\n",
    "            )\n",
    "    return km, km.labels_"
   ]
  },
  {
   "cell_type": "code",
   "execution_count": 20,
   "id": "67db2ec3",
   "metadata": {},
   "outputs": [
    {
     "name": "stderr",
     "output_type": "stream",
     "text": [
      "C:\\Users\\dell\\Anaconda3\\lib\\site-packages\\sklearn\\cluster\\_kmeans.py:888: UserWarning: MiniBatchKMeans is known to have a memory leak on Windows with MKL, when there are less chunks than available threads. You can prevent it by setting batch_size >= 1024 or by setting the environment variable OMP_NUM_THREADS=2\n",
      "  f\"MiniBatchKMeans is known to have a memory leak on \"\n"
     ]
    },
    {
     "name": "stdout",
     "output_type": "stream",
     "text": [
      "For n_clusters = 50\n",
      "Silhouette coefficient: 0.11\n",
      "Inertia:3556.5088681217776\n",
      "Silhouette values:\n",
      "    Cluster 1: Size:55 | Avg:0.36 | Min:-0.00 | Max: 0.56\n",
      "    Cluster 36: Size:30 | Avg:0.34 | Min:0.03 | Max: 0.54\n",
      "    Cluster 22: Size:78 | Avg:0.33 | Min:0.08 | Max: 0.51\n",
      "    Cluster 5: Size:105 | Avg:0.33 | Min:0.03 | Max: 0.53\n",
      "    Cluster 27: Size:78 | Avg:0.29 | Min:-0.15 | Max: 0.49\n",
      "    Cluster 10: Size:149 | Avg:0.28 | Min:-0.05 | Max: 0.52\n",
      "    Cluster 18: Size:52 | Avg:0.28 | Min:-0.07 | Max: 0.50\n",
      "    Cluster 29: Size:101 | Avg:0.26 | Min:-0.01 | Max: 0.47\n",
      "    Cluster 35: Size:68 | Avg:0.22 | Min:-0.00 | Max: 0.39\n",
      "    Cluster 21: Size:131 | Avg:0.21 | Min:-0.07 | Max: 0.42\n",
      "    Cluster 7: Size:197 | Avg:0.20 | Min:-0.05 | Max: 0.40\n",
      "    Cluster 44: Size:68 | Avg:0.18 | Min:-0.05 | Max: 0.37\n",
      "    Cluster 3: Size:106 | Avg:0.17 | Min:-0.01 | Max: 0.34\n",
      "    Cluster 33: Size:133 | Avg:0.17 | Min:-0.09 | Max: 0.36\n",
      "    Cluster 41: Size:110 | Avg:0.16 | Min:-0.01 | Max: 0.37\n",
      "    Cluster 14: Size:243 | Avg:0.16 | Min:-0.03 | Max: 0.37\n",
      "    Cluster 30: Size:503 | Avg:0.16 | Min:-0.00 | Max: 0.37\n",
      "    Cluster 31: Size:157 | Avg:0.15 | Min:-0.07 | Max: 0.38\n",
      "    Cluster 2: Size:528 | Avg:0.15 | Min:-0.01 | Max: 0.37\n",
      "    Cluster 9: Size:96 | Avg:0.15 | Min:-0.07 | Max: 0.38\n",
      "    Cluster 26: Size:135 | Avg:0.14 | Min:-0.08 | Max: 0.35\n",
      "    Cluster 45: Size:217 | Avg:0.14 | Min:-0.09 | Max: 0.37\n",
      "    Cluster 42: Size:618 | Avg:0.13 | Min:-0.06 | Max: 0.36\n",
      "    Cluster 15: Size:371 | Avg:0.12 | Min:-0.12 | Max: 0.36\n",
      "    Cluster 38: Size:348 | Avg:0.11 | Min:-0.07 | Max: 0.30\n",
      "    Cluster 46: Size:149 | Avg:0.10 | Min:-0.13 | Max: 0.29\n",
      "    Cluster 40: Size:233 | Avg:0.10 | Min:-0.11 | Max: 0.32\n",
      "    Cluster 13: Size:337 | Avg:0.10 | Min:-0.06 | Max: 0.28\n",
      "    Cluster 6: Size:145 | Avg:0.09 | Min:-0.08 | Max: 0.27\n",
      "    Cluster 11: Size:275 | Avg:0.09 | Min:-0.11 | Max: 0.32\n",
      "    Cluster 24: Size:181 | Avg:0.09 | Min:-0.08 | Max: 0.29\n",
      "    Cluster 37: Size:452 | Avg:0.09 | Min:-0.05 | Max: 0.30\n",
      "    Cluster 49: Size:101 | Avg:0.08 | Min:-0.15 | Max: 0.31\n",
      "    Cluster 19: Size:343 | Avg:0.08 | Min:-0.14 | Max: 0.33\n",
      "    Cluster 8: Size:178 | Avg:0.08 | Min:-0.08 | Max: 0.28\n",
      "    Cluster 48: Size:119 | Avg:0.08 | Min:-0.12 | Max: 0.30\n",
      "    Cluster 47: Size:284 | Avg:0.07 | Min:-0.16 | Max: 0.30\n",
      "    Cluster 12: Size:145 | Avg:0.07 | Min:-0.15 | Max: 0.32\n",
      "    Cluster 39: Size:182 | Avg:0.06 | Min:-0.10 | Max: 0.26\n",
      "    Cluster 23: Size:75 | Avg:0.05 | Min:-0.17 | Max: 0.30\n",
      "    Cluster 17: Size:292 | Avg:0.05 | Min:-0.16 | Max: 0.27\n",
      "    Cluster 16: Size:209 | Avg:0.05 | Min:-0.17 | Max: 0.30\n",
      "    Cluster 43: Size:102 | Avg:0.03 | Min:-0.16 | Max: 0.24\n",
      "    Cluster 28: Size:210 | Avg:0.02 | Min:-0.23 | Max: 0.24\n",
      "    Cluster 0: Size:149 | Avg:0.02 | Min:-0.15 | Max: 0.19\n",
      "    Cluster 20: Size:329 | Avg:0.02 | Min:-0.15 | Max: 0.23\n",
      "    Cluster 32: Size:227 | Avg:0.02 | Min:-0.15 | Max: 0.20\n",
      "    Cluster 25: Size:179 | Avg:0.02 | Min:-0.17 | Max: 0.26\n",
      "    Cluster 4: Size:161 | Avg:0.01 | Min:-0.18 | Max: 0.24\n",
      "    Cluster 34: Size:148 | Avg:0.00 | Min:-0.20 | Max: 0.23\n"
     ]
    }
   ],
   "source": [
    "clustering, cluster_labels = mbkmeans_clusters(X=vectorized_docs, k=50, print_silhouette_values=True)\n",
    "df_clusters = pd.DataFrame({\n",
    "    \"text\": docs,\n",
    "    \"tokens\": [\" \".join(text) for text in tokenized_docs],\n",
    "    \"cluster\": cluster_labels\n",
    "})"
   ]
  },
  {
   "cell_type": "code",
   "execution_count": 21,
   "id": "04b1b0f5",
   "metadata": {},
   "outputs": [
    {
     "name": "stdout",
     "output_type": "stream",
     "text": [
      "Top terms per cluster (based on centroids):\n",
      "Cluster 0: beirut hughes drugmaker interfax shore \n",
      "Cluster 1: sharpie noaa forecasters assertions claim \n",
      "Cluster 2: studio perhaps score sequel retirement \n",
      "Cluster 3: leo pm delay varadkar coveney \n",
      "Cluster 4: pointed argument fentanyl terror blamed \n",
      "Cluster 5: category humberto landfall charleston wrath \n",
      "Cluster 6: suspend occupied parties swinson matteo \n",
      "Cluster 7: popularity access ai tips likes \n",
      "Cluster 8: aides undermine erdogan delegation vizcarra \n",
      "Cluster 9: jury amber knife officers neighbour \n",
      "Cluster 10: islands tornadoes coastal flooding charleston \n",
      "Cluster 11: daughter assaulting disappearance sexually indiana \n",
      "Cluster 12: lift escalation crisis wider imports \n",
      "Cluster 13: planned resolve presented fargo boeing \n",
      "Cluster 14: zelensky volodymyr whistleblowers ukrainian impeach \n",
      "Cluster 15: panel tweet cnnin declaration strategist \n",
      "Cluster 16: appearances weekends decade haul century \n",
      "Cluster 17: winning summer goals takes wta \n",
      "Cluster 18: cnns twitter interested transcript ridiculed \n",
      "Cluster 19: snake broke fled vegas began \n",
      "Cluster 20: slashed factory analysts remained net \n",
      "Cluster 21: cnnpolitics clinton putin complaint giuliani \n",
      "Cluster 22: trying dog filmed footage serial \n",
      "Cluster 23: competitors fb sector elon schwab \n",
      "Cluster 24: imminent allow imran alliance appointment \n",
      "Cluster 25: telecom management shareholder brazil pipeline \n",
      "Cluster 26: murdering neighbor girl convicted manslaughter \n",
      "Cluster 27: tanker ablaze yemen arabian facilities \n",
      "Cluster 28: funeral arrest illinois founding brazilian \n",
      "Cluster 29: unrest clearing protesters defied demonstrators \n",
      "Cluster 30: orleans opens standing produced intended \n",
      "Cluster 31: bomb dozens soldiers hospital kills \n",
      "Cluster 32: decided total december june gap \n",
      "Cluster 33: qualifying squad tournament trtdvenue mens \n",
      "Cluster 34: latin economists suppliers deepening revive \n",
      "Cluster 35: proposals johnsons backstop benjamin pm \n",
      "Cluster 36: eye lilinow path halts projected \n",
      "Cluster 37: land delta meant treat toxic \n",
      "Cluster 38: freed funded entered dr mexican \n",
      "Cluster 39: verge favor investor sought promises \n",
      "Cluster 40: departments lawyers demanding kiev repeal \n",
      "Cluster 41: mps proposal referendum labour quits \n",
      "Cluster 42: prize formula walk january highest \n",
      "Cluster 43: moscow environmental treasury zurich watchdog \n",
      "Cluster 44: squad warm foursomes qualifying finals \n",
      "Cluster 45: beds copyrightmetropolitan dealt jodie midlands \n",
      "Cluster 46: providing license helping rainforest opinions \n",
      "Cluster 47: smartphone netflix chain update version \n",
      "Cluster 48: choice chances irelands bond wolff \n",
      "Cluster 49: discussions block israels annex warned \n"
     ]
    }
   ],
   "source": [
    "print(\"Top terms per cluster (based on centroids):\")\n",
    "for i in range(50):\n",
    "    tokens_per_cluster = \"\"\n",
    "    most_representative = model.wv.most_similar(positive=[clustering.cluster_centers_[i]], topn=5)\n",
    "    for t in most_representative:\n",
    "        tokens_per_cluster += f\"{t[0]} \"\n",
    "    print(f\"Cluster {i}: {tokens_per_cluster}\")"
   ]
  },
  {
   "cell_type": "code",
   "execution_count": 22,
   "id": "eb326cca",
   "metadata": {},
   "outputs": [
    {
     "name": "stdout",
     "output_type": "stream",
     "text": [
      "Nationwide raids target Russian opposition activists after Moscow poll, says Alexei Navalny | Russian authorities have staged nationwide raids on the regional offices of opposition leader Alexei Navalny, as well as the homes of dozens of staff and supporters, his team said Thursday. | \n",
      "-------------\n",
      "Credit Suisse Executive Steps Down Amid Spying Scandal | Pierre-Olivier Bouée, the chief executive officer, had hired an investigator to track the head of wealth management who left for a rival bank. | Urs Rohner, the chairman of Credit Suisse, said in a news conference Tuesday morning that the surveillance of Mr. Khan was wrong. \r\n",
      "The measure that was taken was disproportionate and did not reflect the criteria and standards by which we measure our own work… [+913 chars]\n",
      "-------------\n",
      "New EU chief 'to sleep in her office' | Ursula von der Leyen's is planning to live in a tiny apartment attached to her Brussels office, her staff has told AFP. | The incoming European Commission President Ursula von der Leyen plans to live in a tiny apartment attached to her Brussels office, rather than rent an apartment locally, her staff told AFP news agency on Thursday.\r\n",
      "The job comes with no official residence - a… [+2163 chars]\n",
      "-------------\n",
      "Road map for Puerto Rico's exit from bankruptcy filed in U.S. court | Puerto Rico would reduce a major portion of its debt by more than 60% under a long-awaited restructuring proposal the bankrupt U.S. commonwealth's federally created financial oversight board filed in court on Friday. | SAN JUAN (Reuters) - Puerto Rico would reduce a major portion of its debt by more than 60% under a long-awaited restructuring proposal the bankrupt U.S. commonwealth’s federally created financial oversight board filed in court on Friday. \r\n",
      "The so-called plan … [+3812 chars]\n",
      "-------------\n",
      "Russia's ruling party takes a hit in Moscow election | Russia's ruling party appears to have lost multiple seats in Moscow's city legislature, according to preliminary voting results reported by state news agency RIA-Novosti. | \n",
      "-------------\n",
      "Russia's ruling party takes hit in local election | Russia's ruling party appears to have lost multiple seats in Moscow's city legislature, according to preliminary voting results reported by state news agency RIA-Novosti. | \n",
      "-------------\n",
      "Harris draws upon background in unveiling criminal justice plan | Drawing on her experience as a prosecutor, as California's attorney general and as a black woman, Sen. Kamala Harris unveiled a comprehensive criminal justice plan on Monday that pledges to shift away from mass incarceration and work toward a more equitable s… | (CNN)Drawing on her experience as a prosecutor, as California's attorney general and as a black woman, Sen. Kamala Harris unveiled a comprehensive criminal justice plan on Monday that pledges to shift away from mass incarceration and work toward a more equita… [+12337 chars]\n",
      "-------------\n",
      "Back in Ukraine, Sentsov plans to make more films and speak up for prisoners in Russia | Ukrainian filmmaker Oleg Sentsov plans to start making films again and to champion the rights of prisoners in Russian jails, he said on Tuesday, days after being freed in a landmark prisoner exchange between Ukraine and Russia. | KIEV (Reuters) - Ukrainian filmmaker Oleg Sentsov plans to start making films again and to champion the rights of prisoners in Russian jails, he said on Tuesday, days after being freed in a landmark prisoner exchange between Ukraine and Russia. \r\n",
      "Sentsov was … [+2434 chars]\n",
      "-------------\n",
      "If They Send Me Back, I Will Die | A virulent anti-immigration administration has now targeted the weakest and most vulnerable. | Mariela, Jonathans mother, couldnt believe it, so she called the agency for an explanation. They just said that our application had been denied, she told me. That our extension could not be granted. It was a complete shock for us.\r\n",
      "The Sánchez family has alre… [+1525 chars]\n",
      "-------------\n",
      "Turkey gets second S-400 battery, plans to activate in 2020 | Turkey's defense ministry says Russia has completed delivery of components for a second battery of S-400 surface to air missile defense system to an airbase in the Turkish capital. | Turkey's defense ministry says Russia has completed delivery of components for a second battery of the S-400 surface-to-air missile defense system to an airbase in the Turkish capital.\r\n",
      "In a statement Sunday, the ministry said it plans to activate the system … [+493 chars]\n",
      "-------------\n"
     ]
    }
   ],
   "source": [
    "test_cluster = 40\n",
    "most_representative_docs = np.argsort(\n",
    "    np.linalg.norm(vectorized_docs - clustering.cluster_centers_[test_cluster], axis=1)\n",
    ")\n",
    "for d in most_representative_docs[:10]:\n",
    "    print(docs[d])\n",
    "    print(\"-------------\")"
   ]
  },
  {
   "cell_type": "code",
   "execution_count": null,
   "id": "e30fe53e",
   "metadata": {},
   "outputs": [],
   "source": []
  }
 ],
 "metadata": {
  "kernelspec": {
   "display_name": "Python 3",
   "language": "python",
   "name": "python3"
  },
  "language_info": {
   "codemirror_mode": {
    "name": "ipython",
    "version": 3
   },
   "file_extension": ".py",
   "mimetype": "text/x-python",
   "name": "python",
   "nbconvert_exporter": "python",
   "pygments_lexer": "ipython3",
   "version": "3.7.3"
  }
 },
 "nbformat": 4,
 "nbformat_minor": 5
}
